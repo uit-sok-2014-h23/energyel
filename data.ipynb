{
 "cells": [
  {
   "cell_type": "markdown",
   "id": "334455d0-f389-49c1-ad6b-728e8b60bf2a",
   "metadata": {},
   "source": [
    "# Datakilder"
   ]
  },
  {
   "cell_type": "markdown",
   "id": "01b8b53f-f214-440e-94a9-31273eb8a2f4",
   "metadata": {},
   "source": [
    "Elektrisiet: https://www.ssb.no/en/statbank\n",
    "\n",
    "Tilsig: https://www.nve.no/energi/analyser-og-statistikk/hydrologiske-data-til-kraftsituasjonsrapporten/\n",
    "\n",
    "Priser: https://www.nordpoolgroup.com/en/Market-data1/\n",
    "\n"
   ]
  },
  {
   "cell_type": "markdown",
   "id": "88b5ea7b-d010-40b5-a7d6-a28ed2cac100",
   "metadata": {
    "tags": []
   },
   "source": [
    "# Definisjoner"
   ]
  },
  {
   "cell_type": "code",
   "execution_count": 1,
   "id": "1b056281-a481-4756-b869-1a9a659810f2",
   "metadata": {
    "tags": []
   },
   "outputs": [],
   "source": [
    "import download\n",
    "import numpy as np\n",
    "import pandas as pd\n",
    "pd.options.display.float_format = '{:,.0f}'.format\n",
    "\n",
    "def dts_to_quarters(df):\n",
    "    df.index = df.index.strftime('%YK') + df.index.quarter.astype(str)\n",
    "    df = df.groupby(df.index)\n",
    "    return df"
   ]
  },
  {
   "cell_type": "markdown",
   "id": "97a10689-d7a3-4841-b39e-74baa79fcfef",
   "metadata": {},
   "source": [
    "# Produksjon og forbruk"
   ]
  },
  {
   "cell_type": "code",
   "execution_count": 2,
   "id": "5045029f-335c-4833-bd69-9fb13aff993c",
   "metadata": {
    "tags": []
   },
   "outputs": [
    {
     "name": "stdout",
     "output_type": "stream",
     "text": [
      "Standardavvik avvikstest: 0.0\n"
     ]
    }
   ],
   "source": [
    "\n",
    "\n",
    "df_balance_new = download.ssb(\"https://data.ssb.no/api/v0/no/table/12824/\", \"\"\"{\n",
    "  \"query\": [],\n",
    "  \"response\": {\n",
    "    \"format\": \"json-stat2\"\n",
    "  }\n",
    "}\"\"\")\n",
    "\n",
    "df_balance_old = download.ssb(\"https://data.ssb.no/api/v0/no/table/06901/\", \"\"\"{\n",
    "  \"query\": [],\n",
    "  \"response\": {\n",
    "    \"format\": \"json-stat2\"\n",
    "  }\n",
    "}\"\"\")\n",
    "df_balance_old = df_balance_old[df_balance_old['Tid'].apply(lambda x:int(x[:4])<2010)]\n",
    "df_balance = pd.concat((df_balance_old, df_balance_new)).pivot(index=['Tid' ], columns='Produk2', values='Data')\n",
    "df_balance['brutto-netto']=  df_balance['Bruttoforbruk av elektrisk kraft']-df_balance['Beregnet tap i linjenettet']-df_balance['Pumpekraftforbruk']-df_balance['Nettoforbruk av elektrisk kraft']\n",
    "df_balance['avvik']  =  df_balance['Nettoforbruk av elektrisk kraft']+df_balance['Beregnet tap i linjenettet']+df_balance['Pumpekraftforbruk']+df_balance['Eksport']-df_balance['Import']-df_balance['Total produksjon av elektrisk kraft']\n",
    "print(f\"Standardavvik avvikstest: {np.std(df_balance['avvik']+df_balance['brutto-netto'])}\")\n",
    "df_balance = df_balance.rename(columns={'Total produksjon av elektrisk kraft':'produksjon','Nettoforbruk av elektrisk kraft':'forbruk' })\n",
    "df_balance = df_balance[['produksjon', 'forbruk', 'Import', 'Eksport']]\n",
    "df_balance.index = pd.to_datetime(df_balance.index, format='%YM%m')\n",
    "df_balance = dts_to_quarters(df_balance).sum()"
   ]
  },
  {
   "cell_type": "markdown",
   "id": "7c3cbd4e-812d-4f20-8f87-b0ddef295d91",
   "metadata": {},
   "source": [
    "# Priser"
   ]
  },
  {
   "cell_type": "code",
   "execution_count": 3,
   "id": "ce52cac1-a9ab-458e-af31-e52aafe023b4",
   "metadata": {
    "tags": []
   },
   "outputs": [],
   "source": [
    "df_prices = pd.read_pickle('nordpool NO.pd')\n",
    "for col in df_prices.columns:\n",
    "    df_prices[col] = df_prices[col].str.replace(',', '.').str.replace('-','0').astype(float)\n",
    "pd.options.display.float_format = '{:,.1f}'.format\n",
    "df_prices = dts_to_quarters(df_prices).mean()\n",
    "df_prices['pris'] = df_prices.mean(axis=1)\n",
    "df_prices = df_prices[['pris']]\n",
    "df_prices = df_prices[df_prices['pris']>0]"
   ]
  },
  {
   "cell_type": "markdown",
   "id": "fa0fce0a-bb18-4f14-8273-de4e7f494531",
   "metadata": {},
   "source": [
    "# Tilsig"
   ]
  },
  {
   "cell_type": "code",
   "execution_count": 4,
   "id": "bec6e80e-82d3-4fbe-b5fa-a00bed9d8991",
   "metadata": {
    "tags": []
   },
   "outputs": [],
   "source": [
    "df_influx = pd.read_excel('tilsig.xlsx')\n",
    "df_influx['dato'] = df_influx['Uke'].astype(str) \n",
    "df_influx = df_influx.rename(columns={'Nyttbart tilsig HBV (brukes før 2015 og til min/maks/gj.snitt)':'tilsig'})\n",
    "condition = df_influx['År'] >= 2000\n",
    "df_influx.loc[condition,'tilsig']=df_influx.loc[condition,'Nyttbart tilsig (produksjonsdata og magasinstatistikk, brukes f.o.m. 2015)']\n",
    "df_influx = df_influx[pd.isna(df_influx['tilsig'])==False]\n",
    "df_influx.index = pd.to_datetime(df_influx['År'].astype(int).astype(str) + df_influx['Uke'].astype(int).astype(str) + '1', format='%Y%W%w')\n",
    "df_influx = df_influx[['tilsig']]\n",
    "df_influx = dts_to_quarters(df_influx).sum()"
   ]
  },
  {
   "cell_type": "markdown",
   "id": "695ffab2-745f-4c2c-b94b-5a9874920aaa",
   "metadata": {},
   "source": [
    "# BNP"
   ]
  },
  {
   "cell_type": "code",
   "execution_count": 5,
   "id": "24d5fe2f-feaa-42d2-93d3-3c7d3609d885",
   "metadata": {
    "tags": []
   },
   "outputs": [],
   "source": [
    "df_gdp = download.ssb(\"https://data.ssb.no/api/v0/no/table/09190/\", \"\"\"{\n",
    "  \"query\": [],\n",
    "  \"response\": {\n",
    "    \"format\": \"json-stat2\"\n",
    "  }\n",
    "}\"\"\")\n",
    "\n",
    "df_gdp = df_gdp[df_gdp['ContentsCode']=='Faste 2020-priser, sesongjustert (mill. kr)']\n",
    "df_gdp = df_gdp[df_gdp['Makrost']=='Bruttonasjonalprodukt Fastlands-Norge, markedsverdi']\n",
    "df_gdp.index = df_gdp['Tid']\n",
    "df_gdp = df_gdp[['Data']]\n",
    "df_gdp = df_gdp.rename(columns={'Data':'bnp'})\n",
    "df_gdp['bnp'] = np.array(df_gdp['bnp'],dtype=float)"
   ]
  },
  {
   "cell_type": "code",
   "execution_count": 6,
   "id": "6570ed3a-96eb-4efd-9f5c-1d9970617dca",
   "metadata": {
    "tags": []
   },
   "outputs": [],
   "source": [
    "df_pop = download.ssb(\"https://data.ssb.no/api/v0/no/table/01222/\", \"\"\"{\n",
    "  \"query\": [\n",
    "    {\n",
    "      \"code\": \"Region\",\n",
    "      \"selection\": {\n",
    "        \"filter\": \"vs:Landet\",\n",
    "        \"values\": [\n",
    "          \"0\"\n",
    "        ]\n",
    "      }\n",
    "    },\n",
    "    {\n",
    "      \"code\": \"ContentsCode\",\n",
    "      \"selection\": {\n",
    "        \"filter\": \"item\",\n",
    "        \"values\": [\n",
    "          \"Folketallet11\"\n",
    "        ]\n",
    "      }\n",
    "    }\n",
    "  ],\n",
    "  \"response\": {\n",
    "    \"format\": \"json-stat2\"\n",
    "  }\n",
    "}\"\"\")\n",
    "\n",
    "\n",
    "\n",
    "df_pop.index = df_pop['Tid']\n",
    "df_pop['pop'] = np.array(df_pop['Data'],dtype=float)\n",
    "df_gdp_cap = pd.concat((df_pop,df_gdp), axis=1)\n",
    "df_gdp_cap['bnp_cap'] = 1000000*df_gdp_cap['bnp']/df_gdp_cap['pop']\n",
    "df_gdp_cap = df_gdp_cap.sort_index()\n",
    "df_gdp_cap = df_gdp_cap.dropna()['bnp_cap']"
   ]
  },
  {
   "cell_type": "markdown",
   "id": "b2d614e0-b7e1-48d3-9dcb-02eeba245dad",
   "metadata": {},
   "source": [
    "# CPI"
   ]
  },
  {
   "cell_type": "code",
   "execution_count": 7,
   "id": "e92a6b9b-7476-486d-ac05-5a7fa9904a40",
   "metadata": {
    "tags": []
   },
   "outputs": [],
   "source": [
    "df_cpi = download.ssb(\"https://data.ssb.no/api/v0/no/table/06444/\", \"\"\"{\n",
    "  \"query\": [],\n",
    "  \"response\": {\n",
    "    \"format\": \"json-stat2\"\n",
    "  }\n",
    "}\"\"\")\n",
    "df_cpi.index = pd.to_datetime(df_cpi['Tid'], format='%YM%m')\n",
    "df_cpi = df_cpi[df_cpi['KonsumgrpJU']=='KPI Totalindeks, sesongjustert']\n",
    "df_cpi = dts_to_quarters(df_cpi[['Data']]).mean()\n",
    "df_cpi = df_cpi.rename(columns={'Data':'kpi'})"
   ]
  },
  {
   "cell_type": "markdown",
   "id": "5eb34356-bb02-4716-83c3-9b3e10cfa8c6",
   "metadata": {
    "tags": []
   },
   "source": [
    "# Temperatur\n",
    "\n",
    "MERK!!!  Du må lage bruker [her](https://frost.met.no/auth/requestCredentials.html), og lime inn klient-ID'en under, for å få denne koden til å kjøre"
   ]
  },
  {
   "cell_type": "code",
   "execution_count": 8,
   "id": "b84a52ee-a022-44ff-be9c-666343828aeb",
   "metadata": {
    "tags": []
   },
   "outputs": [],
   "source": [
    "import requests\n",
    "import pandas as pd\n",
    "\n",
    "# Insert your own client ID here\n",
    "client_id = ''\n",
    "\n",
    "# Define endpoint and parameters\n",
    "endpoint = 'https://frost.met.no/observations/v0.jsonld'\n",
    "parameters = {\n",
    "    'sources': 'SN17150,SN18950,SN19940,SN26898,SN27271,SN44560,SN50500,SN62270,SN90490,SN93140',\n",
    "    'elements': 'mean(air_temperature P1M),sum(precipitation_amount P1M),mean(wind_speed PMD)',\n",
    "    'referencetime': '1997-1-01/2023-10-07',\n",
    "}\n",
    "# Issue an HTTP GET request\n",
    "r = requests.get(endpoint, parameters, auth=(client_id,''))\n",
    "# Extract JSON data\n",
    "json = r.json()\n",
    "data = json['data']"
   ]
  },
  {
   "cell_type": "code",
   "execution_count": 9,
   "id": "241c5a8a-7464-4b2e-bf65-a233ffa25bb0",
   "metadata": {
    "tags": []
   },
   "outputs": [],
   "source": [
    "df_temp = pd.DataFrame()\n",
    "for i in range(len(data)):\n",
    "    row = pd.DataFrame(data[i]['observations'])\n",
    "    row['referenceTime'] = data[i]['referenceTime']\n",
    "    row['sourceId'] = data[i]['sourceId']\n",
    "    df_temp = pd.concat((df_temp,row))\n",
    "\n",
    "df_temp['referenceTime'] = pd.to_datetime(df_temp['referenceTime'])\n",
    "df_temp = df_temp[df_temp['elementId']=='mean(air_temperature P1M)']\n",
    "df_temp = df_temp.set_index('referenceTime')\n",
    "df_temp = df_temp[['value']]\n",
    "df_temp = dts_to_quarters(df_temp).mean()\n",
    "df_temp = df_temp.rename(columns={'value':'temperatur'})"
   ]
  },
  {
   "cell_type": "markdown",
   "id": "e1c11d28-39dd-42f3-9cc0-2d058553e3b3",
   "metadata": {},
   "source": [
    "# Setter sammen og lager"
   ]
  },
  {
   "cell_type": "code",
   "execution_count": 11,
   "id": "97151765-2f53-455a-aecc-a86eb12cbb98",
   "metadata": {
    "tags": []
   },
   "outputs": [
    {
     "data": {
      "text/html": [
       "<div>\n",
       "<style scoped>\n",
       "    .dataframe tbody tr th:only-of-type {\n",
       "        vertical-align: middle;\n",
       "    }\n",
       "\n",
       "    .dataframe tbody tr th {\n",
       "        vertical-align: top;\n",
       "    }\n",
       "\n",
       "    .dataframe thead th {\n",
       "        text-align: right;\n",
       "    }\n",
       "</style>\n",
       "<table border=\"1\" class=\"dataframe\">\n",
       "  <thead>\n",
       "    <tr style=\"text-align: right;\">\n",
       "      <th></th>\n",
       "      <th>pris</th>\n",
       "      <th>produksjon</th>\n",
       "      <th>forbruk</th>\n",
       "      <th>Import</th>\n",
       "      <th>Eksport</th>\n",
       "      <th>tilsig</th>\n",
       "      <th>bnp_cap</th>\n",
       "      <th>kpi</th>\n",
       "      <th>temperatur</th>\n",
       "      <th>Lpris</th>\n",
       "      <th>Ltilsig</th>\n",
       "      <th>kvartal</th>\n",
       "      <th>d_2</th>\n",
       "      <th>d_3</th>\n",
       "      <th>d_4</th>\n",
       "    </tr>\n",
       "  </thead>\n",
       "  <tbody>\n",
       "    <tr>\n",
       "      <th>1999K3</th>\n",
       "      <td>0.056</td>\n",
       "      <td>0.040</td>\n",
       "      <td>-0.142</td>\n",
       "      <td>-1.463</td>\n",
       "      <td>1.139</td>\n",
       "      <td>-0.508</td>\n",
       "      <td>0.012</td>\n",
       "      <td>0.300</td>\n",
       "      <td>5.234</td>\n",
       "      <td>-0.211</td>\n",
       "      <td>1.850</td>\n",
       "      <td>3</td>\n",
       "      <td>0</td>\n",
       "      <td>1</td>\n",
       "      <td>0</td>\n",
       "    </tr>\n",
       "    <tr>\n",
       "      <th>1999K4</th>\n",
       "      <td>0.260</td>\n",
       "      <td>0.204</td>\n",
       "      <td>0.373</td>\n",
       "      <td>1.113</td>\n",
       "      <td>-1.086</td>\n",
       "      <td>-0.354</td>\n",
       "      <td>0.007</td>\n",
       "      <td>0.800</td>\n",
       "      <td>-10.397</td>\n",
       "      <td>0.056</td>\n",
       "      <td>-0.508</td>\n",
       "      <td>4</td>\n",
       "      <td>0</td>\n",
       "      <td>0</td>\n",
       "      <td>1</td>\n",
       "    </tr>\n",
       "    <tr>\n",
       "      <th>2000K1</th>\n",
       "      <td>-0.188</td>\n",
       "      <td>0.151</td>\n",
       "      <td>0.085</td>\n",
       "      <td>-0.766</td>\n",
       "      <td>0.792</td>\n",
       "      <td>-1.653</td>\n",
       "      <td>0.012</td>\n",
       "      <td>0.467</td>\n",
       "      <td>-2.763</td>\n",
       "      <td>0.260</td>\n",
       "      <td>-0.354</td>\n",
       "      <td>1</td>\n",
       "      <td>0</td>\n",
       "      <td>0</td>\n",
       "      <td>0</td>\n",
       "    </tr>\n",
       "    <tr>\n",
       "      <th>2000K2</th>\n",
       "      <td>-0.298</td>\n",
       "      <td>-0.165</td>\n",
       "      <td>-0.300</td>\n",
       "      <td>-1.610</td>\n",
       "      <td>0.554</td>\n",
       "      <td>1.832</td>\n",
       "      <td>-0.009</td>\n",
       "      <td>0.533</td>\n",
       "      <td>7.914</td>\n",
       "      <td>-0.188</td>\n",
       "      <td>-1.653</td>\n",
       "      <td>2</td>\n",
       "      <td>1</td>\n",
       "      <td>0</td>\n",
       "      <td>0</td>\n",
       "    </tr>\n",
       "    <tr>\n",
       "      <th>2000K3</th>\n",
       "      <td>-0.149</td>\n",
       "      <td>-0.051</td>\n",
       "      <td>-0.103</td>\n",
       "      <td>-0.233</td>\n",
       "      <td>0.150</td>\n",
       "      <td>-0.407</td>\n",
       "      <td>0.007</td>\n",
       "      <td>0.733</td>\n",
       "      <td>4.303</td>\n",
       "      <td>-0.298</td>\n",
       "      <td>1.832</td>\n",
       "      <td>3</td>\n",
       "      <td>0</td>\n",
       "      <td>1</td>\n",
       "      <td>0</td>\n",
       "    </tr>\n",
       "    <tr>\n",
       "      <th>...</th>\n",
       "      <td>...</td>\n",
       "      <td>...</td>\n",
       "      <td>...</td>\n",
       "      <td>...</td>\n",
       "      <td>...</td>\n",
       "      <td>...</td>\n",
       "      <td>...</td>\n",
       "      <td>...</td>\n",
       "      <td>...</td>\n",
       "      <td>...</td>\n",
       "      <td>...</td>\n",
       "      <td>...</td>\n",
       "      <td>...</td>\n",
       "      <td>...</td>\n",
       "      <td>...</td>\n",
       "    </tr>\n",
       "    <tr>\n",
       "      <th>2022K2</th>\n",
       "      <td>0.079</td>\n",
       "      <td>-0.244</td>\n",
       "      <td>-0.256</td>\n",
       "      <td>-0.133</td>\n",
       "      <td>-0.193</td>\n",
       "      <td>1.547</td>\n",
       "      <td>0.008</td>\n",
       "      <td>2.100</td>\n",
       "      <td>8.584</td>\n",
       "      <td>0.005</td>\n",
       "      <td>-0.882</td>\n",
       "      <td>2</td>\n",
       "      <td>1</td>\n",
       "      <td>0</td>\n",
       "      <td>0</td>\n",
       "    </tr>\n",
       "    <tr>\n",
       "      <th>2022K3</th>\n",
       "      <td>0.561</td>\n",
       "      <td>-0.117</td>\n",
       "      <td>-0.104</td>\n",
       "      <td>0.079</td>\n",
       "      <td>-0.110</td>\n",
       "      <td>-0.511</td>\n",
       "      <td>0.001</td>\n",
       "      <td>2.533</td>\n",
       "      <td>4.435</td>\n",
       "      <td>0.079</td>\n",
       "      <td>1.547</td>\n",
       "      <td>3</td>\n",
       "      <td>0</td>\n",
       "      <td>1</td>\n",
       "      <td>0</td>\n",
       "    </tr>\n",
       "    <tr>\n",
       "      <th>2022K4</th>\n",
       "      <td>-0.345</td>\n",
       "      <td>0.302</td>\n",
       "      <td>0.282</td>\n",
       "      <td>0.003</td>\n",
       "      <td>0.274</td>\n",
       "      <td>-0.135</td>\n",
       "      <td>0.003</td>\n",
       "      <td>1.833</td>\n",
       "      <td>-10.843</td>\n",
       "      <td>0.561</td>\n",
       "      <td>-0.511</td>\n",
       "      <td>4</td>\n",
       "      <td>0</td>\n",
       "      <td>0</td>\n",
       "      <td>1</td>\n",
       "    </tr>\n",
       "    <tr>\n",
       "      <th>2023K1</th>\n",
       "      <td>-0.440</td>\n",
       "      <td>0.049</td>\n",
       "      <td>0.082</td>\n",
       "      <td>0.162</td>\n",
       "      <td>0.003</td>\n",
       "      <td>-1.126</td>\n",
       "      <td>-0.001</td>\n",
       "      <td>1.533</td>\n",
       "      <td>-3.072</td>\n",
       "      <td>-0.345</td>\n",
       "      <td>-0.135</td>\n",
       "      <td>1</td>\n",
       "      <td>0</td>\n",
       "      <td>0</td>\n",
       "      <td>0</td>\n",
       "    </tr>\n",
       "    <tr>\n",
       "      <th>2023K2</th>\n",
       "      <td>-0.374</td>\n",
       "      <td>-0.203</td>\n",
       "      <td>-0.293</td>\n",
       "      <td>-0.268</td>\n",
       "      <td>0.068</td>\n",
       "      <td>1.777</td>\n",
       "      <td>-0.002</td>\n",
       "      <td>1.933</td>\n",
       "      <td>9.884</td>\n",
       "      <td>-0.440</td>\n",
       "      <td>-1.126</td>\n",
       "      <td>2</td>\n",
       "      <td>1</td>\n",
       "      <td>0</td>\n",
       "      <td>0</td>\n",
       "    </tr>\n",
       "  </tbody>\n",
       "</table>\n",
       "<p>96 rows × 15 columns</p>\n",
       "</div>"
      ],
      "text/plain": [
       "         pris  produksjon  forbruk  Import  Eksport  tilsig  bnp_cap   kpi  \\\n",
       "1999K3  0.056       0.040   -0.142  -1.463    1.139  -0.508    0.012 0.300   \n",
       "1999K4  0.260       0.204    0.373   1.113   -1.086  -0.354    0.007 0.800   \n",
       "2000K1 -0.188       0.151    0.085  -0.766    0.792  -1.653    0.012 0.467   \n",
       "2000K2 -0.298      -0.165   -0.300  -1.610    0.554   1.832   -0.009 0.533   \n",
       "2000K3 -0.149      -0.051   -0.103  -0.233    0.150  -0.407    0.007 0.733   \n",
       "...       ...         ...      ...     ...      ...     ...      ...   ...   \n",
       "2022K2  0.079      -0.244   -0.256  -0.133   -0.193   1.547    0.008 2.100   \n",
       "2022K3  0.561      -0.117   -0.104   0.079   -0.110  -0.511    0.001 2.533   \n",
       "2022K4 -0.345       0.302    0.282   0.003    0.274  -0.135    0.003 1.833   \n",
       "2023K1 -0.440       0.049    0.082   0.162    0.003  -1.126   -0.001 1.533   \n",
       "2023K2 -0.374      -0.203   -0.293  -0.268    0.068   1.777   -0.002 1.933   \n",
       "\n",
       "        temperatur  Lpris  Ltilsig kvartal  d_2  d_3  d_4  \n",
       "1999K3       5.234 -0.211    1.850       3    0    1    0  \n",
       "1999K4     -10.397  0.056   -0.508       4    0    0    1  \n",
       "2000K1      -2.763  0.260   -0.354       1    0    0    0  \n",
       "2000K2       7.914 -0.188   -1.653       2    1    0    0  \n",
       "2000K3       4.303 -0.298    1.832       3    0    1    0  \n",
       "...            ...    ...      ...     ...  ...  ...  ...  \n",
       "2022K2       8.584  0.005   -0.882       2    1    0    0  \n",
       "2022K3       4.435  0.079    1.547       3    0    1    0  \n",
       "2022K4     -10.843  0.561   -0.511       4    0    0    1  \n",
       "2023K1      -3.072 -0.345   -0.135       1    0    0    0  \n",
       "2023K2       9.884 -0.440   -1.126       2    1    0    0  \n",
       "\n",
       "[96 rows x 15 columns]"
      ]
     },
     "execution_count": 11,
     "metadata": {},
     "output_type": "execute_result"
    }
   ],
   "source": [
    "df = pd.concat((df_prices, df_balance, df_influx, df_gdp_cap, df_cpi, df_temp),axis = 1).dropna().sort_index()\n",
    "df['pris'] = 100*df['pris']/df['kpi']\n",
    "df_log = pd.DataFrame(df)\n",
    "for k in ['pris', 'produksjon', 'forbruk', 'Import', 'Eksport', 'tilsig',   'bnp_cap']:\n",
    "    df_log[k] = np.log(np.array(df[k], dtype=float))\n",
    "df_log['Lpris'] = df_log['pris'].shift(1)\n",
    "df_log['Ltilsig'] = df_log['tilsig'].shift(1)\n",
    "pd.options.display.float_format = '{:,.3f}'.format\n",
    "df_log = df_log.diff().dropna()\n",
    "df_log['kvartal'] = df_log.index.str[-1]\n",
    "#creating dummies:\n",
    "dummies = pd.get_dummies(df_log['kvartal'], prefix='d', drop_first=True, dtype = int)\n",
    "df_log = pd.concat([df_log, dummies], axis=1)\n",
    "df_log.to_pickle(\"data.pd\")\n",
    "df_log"
   ]
  },
  {
   "cell_type": "code",
   "execution_count": null,
   "id": "2e866196-2857-4882-8629-1ea114a4fc8b",
   "metadata": {},
   "outputs": [],
   "source": []
  }
 ],
 "metadata": {
  "kernelspec": {
   "display_name": "Python 3 (ipykernel)",
   "language": "python",
   "name": "python3"
  },
  "language_info": {
   "codemirror_mode": {
    "name": "ipython",
    "version": 3
   },
   "file_extension": ".py",
   "mimetype": "text/x-python",
   "name": "python",
   "nbconvert_exporter": "python",
   "pygments_lexer": "ipython3",
   "version": "3.11.6"
  }
 },
 "nbformat": 4,
 "nbformat_minor": 5
}
