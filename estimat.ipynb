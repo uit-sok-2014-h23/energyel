{
 "cells": [
  {
   "cell_type": "markdown",
   "id": "39eb66dc-edce-48a3-b3c8-8874ab2df07e",
   "metadata": {
    "tags": []
   },
   "source": [
    "# Estimat"
   ]
  },
  {
   "cell_type": "markdown",
   "id": "bb4014a0-521c-475f-ab2b-24addfaf9ee4",
   "metadata": {},
   "source": [
    "Data er generert i `data.ipynb`"
   ]
  },
  {
   "cell_type": "code",
   "execution_count": 1,
   "id": "0ec6b229-24c6-4396-b20d-3eedeaf2d3a3",
   "metadata": {
    "tags": []
   },
   "outputs": [
    {
     "name": "stdout",
     "output_type": "stream",
     "text": [
      "\n",
      "\n",
      "\n",
      "****************Etterspørsel:*****************\n",
      "                          IV2SLS Regression Results                           \n",
      "==============================================================================\n",
      "Dep. Variable:             produksjon   R-squared:                       0.840\n",
      "Model:                         IV2SLS   Adj. R-squared:                  0.833\n",
      "Method:                     Two Stage   F-statistic:                     118.6\n",
      "                        Least Squares   Prob (F-statistic):           1.96e-35\n",
      "Date:                Wed, 17 Jan 2024                                         \n",
      "Time:                        11:33:04                                         \n",
      "No. Observations:                  97                                         \n",
      "Df Residuals:                      92                                         \n",
      "Df Model:                           4                                         \n",
      "==============================================================================\n",
      "                 coef    std err          t      P>|t|      [0.025      0.975]\n",
      "------------------------------------------------------------------------------\n",
      "const          0.0469      0.017      2.729      0.008       0.013       0.081\n",
      "pris          -0.0841      0.050     -1.678      0.097      -0.184       0.015\n",
      "d_2           -0.3350      0.026    -12.826      0.000      -0.387      -0.283\n",
      "d_3           -0.0611      0.024     -2.539      0.013      -0.109      -0.013\n",
      "d_4            0.2215      0.027      8.356      0.000       0.169       0.274\n",
      "==============================================================================\n",
      "Omnibus:                        4.309   Durbin-Watson:                   2.245\n",
      "Prob(Omnibus):                  0.116   Jarque-Bera (JB):                4.000\n",
      "Skew:                          -0.303   Prob(JB):                        0.135\n",
      "Kurtosis:                       3.789   Cond. No.                         4.81\n",
      "==============================================================================\n",
      "\n",
      "\n",
      "\n",
      "****************Tilbud:*****************\n",
      "                          IV2SLS Regression Results                           \n",
      "==============================================================================\n",
      "Dep. Variable:             produksjon   R-squared:                       0.664\n",
      "Model:                         IV2SLS   Adj. R-squared:                  0.649\n",
      "Method:                     Two Stage   F-statistic:                     56.56\n",
      "                        Least Squares   Prob (F-statistic):           5.42e-24\n",
      "Date:                Wed, 17 Jan 2024                                         \n",
      "Time:                        11:33:04                                         \n",
      "No. Observations:                  97                                         \n",
      "Df Residuals:                      92                                         \n",
      "Df Model:                           4                                         \n",
      "==============================================================================\n",
      "                 coef    std err          t      P>|t|      [0.025      0.975]\n",
      "------------------------------------------------------------------------------\n",
      "const          0.0473      0.025      1.899      0.061      -0.002       0.097\n",
      "pris           0.1702      0.114      1.489      0.140      -0.057       0.397\n",
      "d_2           -0.2864      0.041     -6.904      0.000      -0.369      -0.204\n",
      "d_3           -0.0591      0.035     -1.693      0.094      -0.128       0.010\n",
      "d_4            0.1677      0.043      3.925      0.000       0.083       0.253\n",
      "==============================================================================\n",
      "Omnibus:                        0.061   Durbin-Watson:                   1.807\n",
      "Prob(Omnibus):                  0.970   Jarque-Bera (JB):                0.196\n",
      "Skew:                           0.046   Prob(JB):                        0.907\n",
      "Kurtosis:                       2.800   Cond. No.                         4.81\n",
      "==============================================================================\n"
     ]
    }
   ],
   "source": [
    "from statsmodels.sandbox.regression.gmm import IV2SLS\n",
    "import statsmodels.api as sm\n",
    "import statsmodels as smd\n",
    "import pandas as pd\n",
    "\n",
    "df_log = pd.read_pickle(\"data.pd\")\n",
    "\n",
    "y = df_log['produksjon']\n",
    "x = sm.add_constant( df_log[['pris', 'd_2','d_3','d_4']])\n",
    "\n",
    "print('\\n\\n\\n****************Etterspørsel:*****************')\n",
    "z = sm.add_constant( df_log[['Lpris', 'd_2','d_3','d_4', 'tilsig', 'Ltilsig']])\n",
    "print(IV2SLS(y, x, z).fit().summary())\n",
    "\n",
    "print('\\n\\n\\n****************Tilbud:*****************')\n",
    "z = sm.add_constant( df_log[['d_2','d_3','d_4','bnp_cap', 'temperatur']])\n",
    "print(IV2SLS(y, x, z).fit().summary())\n"
   ]
  },
  {
   "cell_type": "code",
   "execution_count": null,
   "id": "b9994c1c-3346-400d-a593-11893475d3de",
   "metadata": {},
   "outputs": [],
   "source": []
  }
 ],
 "metadata": {
  "kernelspec": {
   "display_name": "Python 3 (ipykernel)",
   "language": "python",
   "name": "python3"
  },
  "language_info": {
   "codemirror_mode": {
    "name": "ipython",
    "version": 3
   },
   "file_extension": ".py",
   "mimetype": "text/x-python",
   "name": "python",
   "nbconvert_exporter": "python",
   "pygments_lexer": "ipython3",
   "version": "3.11.7"
  }
 },
 "nbformat": 4,
 "nbformat_minor": 5
}
