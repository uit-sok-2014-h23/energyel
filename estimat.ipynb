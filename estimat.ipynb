{
 "cells": [
  {
   "cell_type": "markdown",
   "id": "39eb66dc-edce-48a3-b3c8-8874ab2df07e",
   "metadata": {
    "tags": []
   },
   "source": [
    "# Estimat"
   ]
  },
  {
   "cell_type": "code",
   "execution_count": 4,
   "id": "0ec6b229-24c6-4396-b20d-3eedeaf2d3a3",
   "metadata": {
    "tags": []
   },
   "outputs": [
    {
     "name": "stdout",
     "output_type": "stream",
     "text": [
      "\n",
      "\n",
      "\n",
      "****************Etterspørsel:*****************\n",
      "                          IV2SLS Regression Results                           \n",
      "==============================================================================\n",
      "Dep. Variable:             produksjon   R-squared:                       0.840\n",
      "Model:                         IV2SLS   Adj. R-squared:                  0.833\n",
      "Method:                     Two Stage   F-statistic:                     117.4\n",
      "                        Least Squares   Prob (F-statistic):           4.62e-35\n",
      "Date:                Tue, 10 Oct 2023                                         \n",
      "Time:                        14:28:53                                         \n",
      "No. Observations:                  96                                         \n",
      "Df Residuals:                      91                                         \n",
      "Df Model:                           4                                         \n",
      "==============================================================================\n",
      "                 coef    std err          t      P>|t|      [0.025      0.975]\n",
      "------------------------------------------------------------------------------\n",
      "const          0.0469      0.017      2.716      0.008       0.013       0.081\n",
      "pris          -0.0841      0.051     -1.650      0.102      -0.185       0.017\n",
      "d_2           -0.3350      0.026    -12.740      0.000      -0.387      -0.283\n",
      "d_3           -0.0601      0.024     -2.458      0.016      -0.109      -0.012\n",
      "d_4            0.2215      0.027      8.299      0.000       0.168       0.274\n",
      "==============================================================================\n",
      "Omnibus:                        4.172   Durbin-Watson:                   2.238\n",
      "Prob(Omnibus):                  0.124   Jarque-Bera (JB):                3.778\n",
      "Skew:                          -0.307   Prob(JB):                        0.151\n",
      "Kurtosis:                       3.754   Cond. No.                         4.79\n",
      "==============================================================================\n",
      "\n",
      "\n",
      "\n",
      "****************Tilbud:*****************\n",
      "                          IV2SLS Regression Results                           \n",
      "==============================================================================\n",
      "Dep. Variable:             produksjon   R-squared:                       0.620\n",
      "Model:                         IV2SLS   Adj. R-squared:                  0.603\n",
      "Method:                     Two Stage   F-statistic:                     49.68\n",
      "                        Least Squares   Prob (F-statistic):           4.21e-22\n",
      "Date:                Tue, 10 Oct 2023                                         \n",
      "Time:                        14:28:53                                         \n",
      "No. Observations:                  96                                         \n",
      "Df Residuals:                      91                                         \n",
      "Df Model:                           4                                         \n",
      "==============================================================================\n",
      "                 coef    std err          t      P>|t|      [0.025      0.975]\n",
      "------------------------------------------------------------------------------\n",
      "const          0.0474      0.027      1.779      0.079      -0.006       0.100\n",
      "pris           0.2092      0.132      1.584      0.117      -0.053       0.472\n",
      "d_2           -0.2789      0.045     -6.148      0.000      -0.369      -0.189\n",
      "d_3           -0.0682      0.038     -1.801      0.075      -0.143       0.007\n",
      "d_4            0.1596      0.047      3.404      0.001       0.066       0.253\n",
      "==============================================================================\n",
      "Omnibus:                        0.036   Durbin-Watson:                   1.805\n",
      "Prob(Omnibus):                  0.982   Jarque-Bera (JB):                0.068\n",
      "Skew:                           0.039   Prob(JB):                        0.967\n",
      "Kurtosis:                       2.895   Cond. No.                         4.79\n",
      "==============================================================================\n"
     ]
    }
   ],
   "source": [
    "from statsmodels.sandbox.regression.gmm import IV2SLS\n",
    "import statsmodels.api as sm\n",
    "import statsmodels as smd\n",
    "import pandas as pd\n",
    "\n",
    "df_log = pd.read_pickle(\"data.pd\")\n",
    "\n",
    "y = df_log['produksjon']\n",
    "x = sm.add_constant( df_log[['pris', 'd_2','d_3','d_4']])\n",
    "\n",
    "print('\\n\\n\\n****************Etterspørsel:*****************')\n",
    "z = sm.add_constant( df_log[['Lpris', 'd_2','d_3','d_4', 'tilsig', 'Ltilsig']])\n",
    "print(IV2SLS(y, x, z).fit().summary())\n",
    "\n",
    "print('\\n\\n\\n****************Tilbud:*****************')\n",
    "z = sm.add_constant( df_log[['d_2','d_3','d_4','bnp_cap', 'temperatur']])\n",
    "print(IV2SLS(y, x, z).fit().summary())\n"
   ]
  }
 ],
 "metadata": {
  "kernelspec": {
   "display_name": "Python 3 (ipykernel)",
   "language": "python",
   "name": "python3"
  },
  "language_info": {
   "codemirror_mode": {
    "name": "ipython",
    "version": 3
   },
   "file_extension": ".py",
   "mimetype": "text/x-python",
   "name": "python",
   "nbconvert_exporter": "python",
   "pygments_lexer": "ipython3",
   "version": "3.11.6"
  }
 },
 "nbformat": 4,
 "nbformat_minor": 5
}
