{
 "cells": [
  {
   "cell_type": "markdown",
   "id": "15df9208-81cb-4ed7-a908-347fecb6d34e",
   "metadata": {},
   "source": [
    "# Utregninger"
   ]
  },
  {
   "cell_type": "markdown",
   "id": "a2f870e9-4c9c-4aac-9cf4-8ab4906f428a",
   "metadata": {},
   "source": [
    "Kilde: https://www.entsoe.eu/"
   ]
  },
  {
   "cell_type": "code",
   "execution_count": 1,
   "id": "9dbfb020-e089-4085-bd5c-e6773412ca8c",
   "metadata": {
    "tags": []
   },
   "outputs": [],
   "source": [
    "import pandas as pd\n",
    "import numpy as np"
   ]
  },
  {
   "cell_type": "markdown",
   "id": "ad9520b8-b449-440a-98d0-f06118962535",
   "metadata": {},
   "source": [
    "## Importkapasitet\n",
    "\n",
    "https://transparency.entsoe.eu/content/static_content/Static%20content/knowledge%20base/data-views/transmission-domain/Data-view%20Forecasted%20Transfer%20Capacities%20-%20Month%20Ahead.html"
   ]
  },
  {
   "cell_type": "code",
   "execution_count": 2,
   "id": "6d47a0e9-213b-4954-8162-c20698cf92d2",
   "metadata": {
    "tags": []
   },
   "outputs": [
    {
     "data": {
      "text/plain": [
       "18834000.0"
      ]
     },
     "execution_count": 2,
     "metadata": {},
     "output_type": "execute_result"
    }
   ],
   "source": [
    "df = pd.read_pickle('flow_capacity.pd')\n",
    "df = df.set_index('desc')\n",
    "df = df.groupby(df.index).max()\n",
    "#Converting from MW to MWh per year\n",
    "max_import = float(df[df.index.str.contains('NO_4')].sum())*24*365\n",
    "max_import"
   ]
  },
  {
   "cell_type": "code",
   "execution_count": null,
   "id": "4ecf2c43-7aa5-49df-b80a-ca0504b5d19f",
   "metadata": {
    "tags": []
   },
   "outputs": [],
   "source": [
    "\n"
   ]
  },
  {
   "cell_type": "markdown",
   "id": "8b4c851c-b797-438d-a2e8-c5b62c438012",
   "metadata": {},
   "source": [
    "## Produksjonskapasitet\n",
    "\n",
    "https://transparency.entsoe.eu/content/static_content/Static%20content/knowledge%20base/data-views/generation/Data-view%20Actual%20Generation%20per%20Production%20Unit.html"
   ]
  },
  {
   "cell_type": "code",
   "execution_count": 3,
   "id": "32801d34-4d15-4a61-8d48-2c2bab484ca7",
   "metadata": {
    "tags": []
   },
   "outputs": [
    {
     "data": {
      "text/plain": [
       "25528302.75"
      ]
     },
     "execution_count": 3,
     "metadata": {},
     "output_type": "execute_result"
    }
   ],
   "source": [
    "df_generation = pd.read_pickle(\"generation.pd\")\n",
    "df_gen4 = df_generation[df_generation['desc']=='NO_4']\n",
    "df_gen4 = df_gen4.droplevel(1)[['value']]\n",
    "df_gen4 = df_gen4.groupby(df_gen4.index).sum()\n",
    "gen_capacity = float(df_gen4.mean())\n",
    "gen_capacity"
   ]
  },
  {
   "cell_type": "markdown",
   "id": "68d0e0de-2086-4adf-8d04-d8ee8f9433f4",
   "metadata": {},
   "source": [
    "## Kraftbehov"
   ]
  },
  {
   "cell_type": "code",
   "execution_count": 4,
   "id": "4c846720-2831-46c0-af1f-037420f5ad06",
   "metadata": {
    "tags": []
   },
   "outputs": [
    {
     "data": {
      "text/plain": [
       "0.06086248532263128"
      ]
     },
     "execution_count": 4,
     "metadata": {},
     "output_type": "execute_result"
    }
   ],
   "source": [
    "power_use = 2700000\n",
    "percent_difference = power_use/(gen_capacity + max_import)\n",
    "percent_difference"
   ]
  },
  {
   "cell_type": "code",
   "execution_count": 5,
   "id": "9de1a69b-5219-41b5-bfc9-8d27889ffcf3",
   "metadata": {
    "tags": []
   },
   "outputs": [
    {
     "data": {
      "text/plain": [
       "0.059082242676447155"
      ]
     },
     "execution_count": 5,
     "metadata": {},
     "output_type": "execute_result"
    }
   ],
   "source": [
    "logdelta_x = np.log(1+percent_difference)\n",
    "logdelta_x"
   ]
  },
  {
   "cell_type": "code",
   "execution_count": 6,
   "id": "278831bc-e62a-4b75-9ea7-bea9077c2d20",
   "metadata": {
    "tags": []
   },
   "outputs": [
    {
     "data": {
      "text/plain": [
       "0.22316238917327547"
      ]
     },
     "execution_count": 6,
     "metadata": {},
     "output_type": "execute_result"
    }
   ],
   "source": [
    "eDinv = 0.0842\n",
    "eSinv = 0.2091\n",
    "\n",
    "logdelta_p = ((1/(eDinv*eSinv))/((1/eDinv)+(1/eSinv)) ) * logdelta_x\n",
    "logdelta_p\n",
    "delta_p = np.exp(logdelta_p)-1\n",
    "delta_p"
   ]
  },
  {
   "cell_type": "code",
   "execution_count": null,
   "id": "b73e3781-5aea-4df9-99ed-ba2739d71b53",
   "metadata": {},
   "outputs": [],
   "source": []
  }
 ],
 "metadata": {
  "kernelspec": {
   "display_name": "Python 3 (ipykernel)",
   "language": "python",
   "name": "python3"
  },
  "language_info": {
   "codemirror_mode": {
    "name": "ipython",
    "version": 3
   },
   "file_extension": ".py",
   "mimetype": "text/x-python",
   "name": "python",
   "nbconvert_exporter": "python",
   "pygments_lexer": "ipython3",
   "version": "3.11.7"
  }
 },
 "nbformat": 4,
 "nbformat_minor": 5
}
